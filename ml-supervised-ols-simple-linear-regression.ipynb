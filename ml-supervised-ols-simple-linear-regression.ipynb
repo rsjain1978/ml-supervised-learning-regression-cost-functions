{
 "cells": [
  {
   "cell_type": "code",
   "execution_count": 3,
   "metadata": {},
   "outputs": [
    {
     "name": "stdout",
     "output_type": "stream",
     "text": [
      "Value of m is 1.0 and b is 13.0\n",
      "Predicted value of X=55 would be 68.0\n"
     ]
    }
   ],
   "source": [
    "import numpy as np\n",
    "import pandas as pd\n",
    "import math\n",
    "import statistics as stats\n",
    "\n",
    "# m = 1/n*(Sum((xi-mean(x))*(yi-mean(y)))/ Sum((xi-mean(x))^2))\n",
    "# b = mean(y) - m*mean(x)\n",
    "def generate_coeffecients_intercept(X,Y):\n",
    "    n = len(X)\n",
    "\n",
    "    x_mean = stats.mean(X)\n",
    "    y_mean = stats.mean(Y)\n",
    "\n",
    "    m = 0\n",
    "    i = 0\n",
    "    while (i<n):\n",
    "        m =  m + (X[i]-x_mean)*(Y[i]-y_mean)/pow((x_mean-X[i]),2)\n",
    "        i=i+1\n",
    "    m = m/n\n",
    "    b = y_mean - m*x_mean\n",
    "\n",
    "    print ('Value of m is {} and b is {}'.format(m,b))\n",
    "    predicted_y = m*55+b\n",
    "    print ('Predicted value of X=55 would be {}'.format(predicted_y))\n",
    "\n",
    "\n",
    "X = np.array([10,20,30,40,50,60])\n",
    "Y = np.array([23,33,43,53,63,73])\n",
    "generate_coeffecients_intercept(X,Y)"
   ]
  },
  {
   "cell_type": "code",
   "execution_count": null,
   "metadata": {},
   "outputs": [],
   "source": []
  }
 ],
 "metadata": {
  "kernelspec": {
   "display_name": "Python 3",
   "language": "python",
   "name": "python3"
  },
  "language_info": {
   "codemirror_mode": {
    "name": "ipython",
    "version": 3
   },
   "file_extension": ".py",
   "mimetype": "text/x-python",
   "name": "python",
   "nbconvert_exporter": "python",
   "pygments_lexer": "ipython3",
   "version": "3.7.0"
  }
 },
 "nbformat": 4,
 "nbformat_minor": 2
}
