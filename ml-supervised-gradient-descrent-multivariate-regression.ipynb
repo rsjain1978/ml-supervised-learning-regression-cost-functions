{
 "cells": [
  {
   "cell_type": "code",
   "execution_count": 3,
   "metadata": {},
   "outputs": [
    {
     "name": "stdout",
     "output_type": "stream",
     "text": [
      "Predicted value for is [[400.04846569]]\n"
     ]
    }
   ],
   "source": [
    "import pandas as pd\n",
    "import numpy as np\n",
    "\n",
    "independentVariablesCount = 2\n",
    "\n",
    "#define a function which would use the gradient descent algorithm to converge the cost function\n",
    "#and find the values of co-effecients\n",
    "def gradient_descent(X,Y,thetas,numberOfObservations):\n",
    "    iterations=2000\n",
    "    learning_factor=0.009\n",
    "\n",
    "    i=0\n",
    "    while (i<iterations):\n",
    "        i=i+1\n",
    "\n",
    "        #calculate the predicted value of Y using X and thetas\n",
    "        y_predicted = X.dot(thetas)\n",
    "\n",
    "        #calculate cost function\n",
    "        cost = (1/numberOfObservations)*np.sum(pow((y_predicted-Y),2))\n",
    "\n",
    "        #find partial derivates of Thetas\n",
    "        tmp1 =  (y_predicted-Y)*X\n",
    "        dThetas = (1/numberOfObservations)*np.sum(tmp1,axis=0)\n",
    "        dThetas = dThetas.reshape(independentVariablesCount+1,1)\n",
    "\n",
    "        thetas = thetas - learning_factor*dThetas\n",
    "\n",
    "        #print ('cost is {} and thetas is{}'.format(cost,thetas.T))\n",
    "\n",
    "    return thetas\n",
    "\n",
    "#assume some values for dependent variable and create a 6*1 ndarray for that.\n",
    "Y=np.array([[100,200,300,400,500,600]])\n",
    "\n",
    "#derive number of observations\n",
    "numberOfObservations = Y.size\n",
    "\n",
    "#assume there are two independent variables x1,x2\n",
    "x1=(1,2,3,4,5,6)\n",
    "x2=(2,3,4,5,6,7)\n",
    "\n",
    "#create a list for the passed independent variables\n",
    "listX=list(zip(x1,x2))\n",
    "\n",
    "#convert the list into a dataframe and derive a ndarrary from dataframe\n",
    "df=pd.DataFrame(listX)\n",
    "X=df.values\n",
    "\n",
    "#create a ndarray of (6,1) dimensions and append to X. This is required to caluclate the intercept later\n",
    "ones=np.ones((numberOfObservations,1),dtype=int)\n",
    "X=np.concatenate((ones,X),axis=1)\n",
    "\n",
    "#Since there are two independent variables and one intercept, initialize a array called thetas which \n",
    "#holds the values of these co-effecients and intercept\n",
    "thetas=np.zeros((independentVariablesCount+1,1),dtype=int)\n",
    "\n",
    "\n",
    "thetas = gradient_descent(X,Y.T,thetas,numberOfObservations)\n",
    "\n",
    "testX=np.array([1,4,5])\n",
    "testX=testX.reshape(1,independentVariablesCount+1)\n",
    "predicted=testX.dot(thetas)\n",
    "print ('Predicted value for is {}'.format(predicted))"
   ]
  },
  {
   "cell_type": "code",
   "execution_count": null,
   "metadata": {},
   "outputs": [],
   "source": []
  }
 ],
 "metadata": {
  "kernelspec": {
   "display_name": "Python 3",
   "language": "python",
   "name": "python3"
  },
  "language_info": {
   "codemirror_mode": {
    "name": "ipython",
    "version": 3
   },
   "file_extension": ".py",
   "mimetype": "text/x-python",
   "name": "python",
   "nbconvert_exporter": "python",
   "pygments_lexer": "ipython3",
   "version": "3.7.0"
  }
 },
 "nbformat": 4,
 "nbformat_minor": 2
}
